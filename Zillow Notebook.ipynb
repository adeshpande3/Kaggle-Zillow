{
 "cells": [
  {
   "cell_type": "code",
   "execution_count": 1,
   "metadata": {
    "collapsed": true
   },
   "outputs": [],
   "source": [
    "import pandas as pd\n",
    "import numpy as np\n",
    "import sklearn\n",
    "from sklearn import linear_model"
   ]
  },
  {
   "cell_type": "code",
   "execution_count": 3,
   "metadata": {
    "collapsed": false
   },
   "outputs": [
    {
     "name": "stderr",
     "output_type": "stream",
     "text": [
      "/Users/adit/anaconda/lib/python2.7/site-packages/IPython/core/interactiveshell.py:2717: DtypeWarning: Columns (22,32,34,49,55) have mixed types. Specify dtype option on import or set low_memory=False.\n",
      "  interactivity=interactivity, compiler=compiler, result=result)\n"
     ]
    }
   ],
   "source": [
    "properties = pd.read_csv('properties_2016.csv')\n",
    "train = pd.read_csv('train_2016.csv')\n",
    "sampleSub = pd.read_csv('sample_submission.csv')"
   ]
  },
  {
   "cell_type": "code",
   "execution_count": 4,
   "metadata": {
    "collapsed": false
   },
   "outputs": [
    {
     "data": {
      "text/html": [
       "<div>\n",
       "<table border=\"1\" class=\"dataframe\">\n",
       "  <thead>\n",
       "    <tr style=\"text-align: right;\">\n",
       "      <th></th>\n",
       "      <th>parcelid</th>\n",
       "      <th>logerror</th>\n",
       "      <th>transactiondate</th>\n",
       "    </tr>\n",
       "  </thead>\n",
       "  <tbody>\n",
       "    <tr>\n",
       "      <th>0</th>\n",
       "      <td>11016594</td>\n",
       "      <td>0.0276</td>\n",
       "      <td>2016-01-01</td>\n",
       "    </tr>\n",
       "    <tr>\n",
       "      <th>1</th>\n",
       "      <td>14366692</td>\n",
       "      <td>-0.1684</td>\n",
       "      <td>2016-01-01</td>\n",
       "    </tr>\n",
       "    <tr>\n",
       "      <th>2</th>\n",
       "      <td>12098116</td>\n",
       "      <td>-0.0040</td>\n",
       "      <td>2016-01-01</td>\n",
       "    </tr>\n",
       "    <tr>\n",
       "      <th>3</th>\n",
       "      <td>12643413</td>\n",
       "      <td>0.0218</td>\n",
       "      <td>2016-01-02</td>\n",
       "    </tr>\n",
       "    <tr>\n",
       "      <th>4</th>\n",
       "      <td>14432541</td>\n",
       "      <td>-0.0050</td>\n",
       "      <td>2016-01-02</td>\n",
       "    </tr>\n",
       "  </tbody>\n",
       "</table>\n",
       "</div>"
      ],
      "text/plain": [
       "   parcelid  logerror transactiondate\n",
       "0  11016594    0.0276      2016-01-01\n",
       "1  14366692   -0.1684      2016-01-01\n",
       "2  12098116   -0.0040      2016-01-01\n",
       "3  12643413    0.0218      2016-01-02\n",
       "4  14432541   -0.0050      2016-01-02"
      ]
     },
     "execution_count": 4,
     "metadata": {},
     "output_type": "execute_result"
    }
   ],
   "source": [
    "train.head()"
   ]
  },
  {
   "cell_type": "code",
   "execution_count": 9,
   "metadata": {
    "collapsed": false
   },
   "outputs": [
    {
     "data": {
      "text/html": [
       "<div>\n",
       "<table border=\"1\" class=\"dataframe\">\n",
       "  <thead>\n",
       "    <tr style=\"text-align: right;\">\n",
       "      <th></th>\n",
       "      <th>parcelid</th>\n",
       "      <th>airconditioningtypeid</th>\n",
       "      <th>architecturalstyletypeid</th>\n",
       "      <th>basementsqft</th>\n",
       "      <th>bathroomcnt</th>\n",
       "      <th>bedroomcnt</th>\n",
       "      <th>buildingclasstypeid</th>\n",
       "      <th>buildingqualitytypeid</th>\n",
       "      <th>calculatedbathnbr</th>\n",
       "      <th>decktypeid</th>\n",
       "      <th>...</th>\n",
       "      <th>numberofstories</th>\n",
       "      <th>fireplaceflag</th>\n",
       "      <th>structuretaxvaluedollarcnt</th>\n",
       "      <th>taxvaluedollarcnt</th>\n",
       "      <th>assessmentyear</th>\n",
       "      <th>landtaxvaluedollarcnt</th>\n",
       "      <th>taxamount</th>\n",
       "      <th>taxdelinquencyflag</th>\n",
       "      <th>taxdelinquencyyear</th>\n",
       "      <th>censustractandblock</th>\n",
       "    </tr>\n",
       "  </thead>\n",
       "  <tbody>\n",
       "    <tr>\n",
       "      <th>2985212</th>\n",
       "      <td>168176230</td>\n",
       "      <td>NaN</td>\n",
       "      <td>NaN</td>\n",
       "      <td>NaN</td>\n",
       "      <td>NaN</td>\n",
       "      <td>NaN</td>\n",
       "      <td>NaN</td>\n",
       "      <td>NaN</td>\n",
       "      <td>NaN</td>\n",
       "      <td>NaN</td>\n",
       "      <td>...</td>\n",
       "      <td>NaN</td>\n",
       "      <td>NaN</td>\n",
       "      <td>NaN</td>\n",
       "      <td>NaN</td>\n",
       "      <td>NaN</td>\n",
       "      <td>NaN</td>\n",
       "      <td>NaN</td>\n",
       "      <td>NaN</td>\n",
       "      <td>NaN</td>\n",
       "      <td>NaN</td>\n",
       "    </tr>\n",
       "    <tr>\n",
       "      <th>2985213</th>\n",
       "      <td>14273630</td>\n",
       "      <td>NaN</td>\n",
       "      <td>NaN</td>\n",
       "      <td>NaN</td>\n",
       "      <td>NaN</td>\n",
       "      <td>NaN</td>\n",
       "      <td>NaN</td>\n",
       "      <td>NaN</td>\n",
       "      <td>NaN</td>\n",
       "      <td>NaN</td>\n",
       "      <td>...</td>\n",
       "      <td>NaN</td>\n",
       "      <td>NaN</td>\n",
       "      <td>NaN</td>\n",
       "      <td>NaN</td>\n",
       "      <td>NaN</td>\n",
       "      <td>NaN</td>\n",
       "      <td>NaN</td>\n",
       "      <td>NaN</td>\n",
       "      <td>NaN</td>\n",
       "      <td>NaN</td>\n",
       "    </tr>\n",
       "    <tr>\n",
       "      <th>2985214</th>\n",
       "      <td>168040630</td>\n",
       "      <td>NaN</td>\n",
       "      <td>NaN</td>\n",
       "      <td>NaN</td>\n",
       "      <td>NaN</td>\n",
       "      <td>NaN</td>\n",
       "      <td>NaN</td>\n",
       "      <td>NaN</td>\n",
       "      <td>NaN</td>\n",
       "      <td>NaN</td>\n",
       "      <td>...</td>\n",
       "      <td>NaN</td>\n",
       "      <td>NaN</td>\n",
       "      <td>NaN</td>\n",
       "      <td>NaN</td>\n",
       "      <td>NaN</td>\n",
       "      <td>NaN</td>\n",
       "      <td>NaN</td>\n",
       "      <td>NaN</td>\n",
       "      <td>NaN</td>\n",
       "      <td>NaN</td>\n",
       "    </tr>\n",
       "    <tr>\n",
       "      <th>2985215</th>\n",
       "      <td>168040830</td>\n",
       "      <td>NaN</td>\n",
       "      <td>NaN</td>\n",
       "      <td>NaN</td>\n",
       "      <td>NaN</td>\n",
       "      <td>NaN</td>\n",
       "      <td>NaN</td>\n",
       "      <td>NaN</td>\n",
       "      <td>NaN</td>\n",
       "      <td>NaN</td>\n",
       "      <td>...</td>\n",
       "      <td>NaN</td>\n",
       "      <td>NaN</td>\n",
       "      <td>NaN</td>\n",
       "      <td>NaN</td>\n",
       "      <td>NaN</td>\n",
       "      <td>NaN</td>\n",
       "      <td>NaN</td>\n",
       "      <td>NaN</td>\n",
       "      <td>NaN</td>\n",
       "      <td>NaN</td>\n",
       "    </tr>\n",
       "    <tr>\n",
       "      <th>2985216</th>\n",
       "      <td>168040430</td>\n",
       "      <td>NaN</td>\n",
       "      <td>NaN</td>\n",
       "      <td>NaN</td>\n",
       "      <td>NaN</td>\n",
       "      <td>NaN</td>\n",
       "      <td>NaN</td>\n",
       "      <td>NaN</td>\n",
       "      <td>NaN</td>\n",
       "      <td>NaN</td>\n",
       "      <td>...</td>\n",
       "      <td>NaN</td>\n",
       "      <td>NaN</td>\n",
       "      <td>NaN</td>\n",
       "      <td>NaN</td>\n",
       "      <td>NaN</td>\n",
       "      <td>NaN</td>\n",
       "      <td>NaN</td>\n",
       "      <td>NaN</td>\n",
       "      <td>NaN</td>\n",
       "      <td>NaN</td>\n",
       "    </tr>\n",
       "  </tbody>\n",
       "</table>\n",
       "<p>5 rows × 58 columns</p>\n",
       "</div>"
      ],
      "text/plain": [
       "          parcelid  airconditioningtypeid  architecturalstyletypeid  \\\n",
       "2985212  168176230                    NaN                       NaN   \n",
       "2985213   14273630                    NaN                       NaN   \n",
       "2985214  168040630                    NaN                       NaN   \n",
       "2985215  168040830                    NaN                       NaN   \n",
       "2985216  168040430                    NaN                       NaN   \n",
       "\n",
       "         basementsqft  bathroomcnt  bedroomcnt  buildingclasstypeid  \\\n",
       "2985212           NaN          NaN         NaN                  NaN   \n",
       "2985213           NaN          NaN         NaN                  NaN   \n",
       "2985214           NaN          NaN         NaN                  NaN   \n",
       "2985215           NaN          NaN         NaN                  NaN   \n",
       "2985216           NaN          NaN         NaN                  NaN   \n",
       "\n",
       "         buildingqualitytypeid  calculatedbathnbr  decktypeid  \\\n",
       "2985212                    NaN                NaN         NaN   \n",
       "2985213                    NaN                NaN         NaN   \n",
       "2985214                    NaN                NaN         NaN   \n",
       "2985215                    NaN                NaN         NaN   \n",
       "2985216                    NaN                NaN         NaN   \n",
       "\n",
       "                ...           numberofstories  fireplaceflag  \\\n",
       "2985212         ...                       NaN            NaN   \n",
       "2985213         ...                       NaN            NaN   \n",
       "2985214         ...                       NaN            NaN   \n",
       "2985215         ...                       NaN            NaN   \n",
       "2985216         ...                       NaN            NaN   \n",
       "\n",
       "         structuretaxvaluedollarcnt  taxvaluedollarcnt  assessmentyear  \\\n",
       "2985212                         NaN                NaN             NaN   \n",
       "2985213                         NaN                NaN             NaN   \n",
       "2985214                         NaN                NaN             NaN   \n",
       "2985215                         NaN                NaN             NaN   \n",
       "2985216                         NaN                NaN             NaN   \n",
       "\n",
       "         landtaxvaluedollarcnt  taxamount  taxdelinquencyflag  \\\n",
       "2985212                    NaN        NaN                 NaN   \n",
       "2985213                    NaN        NaN                 NaN   \n",
       "2985214                    NaN        NaN                 NaN   \n",
       "2985215                    NaN        NaN                 NaN   \n",
       "2985216                    NaN        NaN                 NaN   \n",
       "\n",
       "         taxdelinquencyyear  censustractandblock  \n",
       "2985212                 NaN                  NaN  \n",
       "2985213                 NaN                  NaN  \n",
       "2985214                 NaN                  NaN  \n",
       "2985215                 NaN                  NaN  \n",
       "2985216                 NaN                  NaN  \n",
       "\n",
       "[5 rows x 58 columns]"
      ]
     },
     "execution_count": 9,
     "metadata": {},
     "output_type": "execute_result"
    }
   ],
   "source": [
    "properties.tail()"
   ]
  },
  {
   "cell_type": "code",
   "execution_count": 10,
   "metadata": {
    "collapsed": false
   },
   "outputs": [
    {
     "data": {
      "text/html": [
       "<div>\n",
       "<table border=\"1\" class=\"dataframe\">\n",
       "  <thead>\n",
       "    <tr style=\"text-align: right;\">\n",
       "      <th></th>\n",
       "      <th>ParcelId</th>\n",
       "      <th>201610</th>\n",
       "      <th>201611</th>\n",
       "      <th>201612</th>\n",
       "      <th>201710</th>\n",
       "      <th>201711</th>\n",
       "      <th>201712</th>\n",
       "    </tr>\n",
       "  </thead>\n",
       "  <tbody>\n",
       "    <tr>\n",
       "      <th>0</th>\n",
       "      <td>10754147</td>\n",
       "      <td>0</td>\n",
       "      <td>0</td>\n",
       "      <td>0</td>\n",
       "      <td>0</td>\n",
       "      <td>0</td>\n",
       "      <td>0</td>\n",
       "    </tr>\n",
       "    <tr>\n",
       "      <th>1</th>\n",
       "      <td>10759547</td>\n",
       "      <td>0</td>\n",
       "      <td>0</td>\n",
       "      <td>0</td>\n",
       "      <td>0</td>\n",
       "      <td>0</td>\n",
       "      <td>0</td>\n",
       "    </tr>\n",
       "    <tr>\n",
       "      <th>2</th>\n",
       "      <td>10843547</td>\n",
       "      <td>0</td>\n",
       "      <td>0</td>\n",
       "      <td>0</td>\n",
       "      <td>0</td>\n",
       "      <td>0</td>\n",
       "      <td>0</td>\n",
       "    </tr>\n",
       "    <tr>\n",
       "      <th>3</th>\n",
       "      <td>10859147</td>\n",
       "      <td>0</td>\n",
       "      <td>0</td>\n",
       "      <td>0</td>\n",
       "      <td>0</td>\n",
       "      <td>0</td>\n",
       "      <td>0</td>\n",
       "    </tr>\n",
       "    <tr>\n",
       "      <th>4</th>\n",
       "      <td>10879947</td>\n",
       "      <td>0</td>\n",
       "      <td>0</td>\n",
       "      <td>0</td>\n",
       "      <td>0</td>\n",
       "      <td>0</td>\n",
       "      <td>0</td>\n",
       "    </tr>\n",
       "  </tbody>\n",
       "</table>\n",
       "</div>"
      ],
      "text/plain": [
       "   ParcelId  201610  201611  201612  201710  201711  201712\n",
       "0  10754147       0       0       0       0       0       0\n",
       "1  10759547       0       0       0       0       0       0\n",
       "2  10843547       0       0       0       0       0       0\n",
       "3  10859147       0       0       0       0       0       0\n",
       "4  10879947       0       0       0       0       0       0"
      ]
     },
     "execution_count": 10,
     "metadata": {},
     "output_type": "execute_result"
    }
   ],
   "source": [
    "sampleSub.head()"
   ]
  },
  {
   "cell_type": "code",
   "execution_count": 2,
   "metadata": {
    "collapsed": true
   },
   "outputs": [],
   "source": [
    "p = pd.read_csv('preds.csv')"
   ]
  },
  {
   "cell_type": "code",
   "execution_count": 3,
   "metadata": {
    "collapsed": false
   },
   "outputs": [
    {
     "data": {
      "text/html": [
       "<div>\n",
       "<table border=\"1\" class=\"dataframe\">\n",
       "  <thead>\n",
       "    <tr style=\"text-align: right;\">\n",
       "      <th></th>\n",
       "      <th>ParcelId</th>\n",
       "      <th>201610</th>\n",
       "      <th>201611</th>\n",
       "      <th>201612</th>\n",
       "      <th>201710</th>\n",
       "      <th>201711</th>\n",
       "      <th>201712</th>\n",
       "    </tr>\n",
       "  </thead>\n",
       "  <tbody>\n",
       "    <tr>\n",
       "      <th>0</th>\n",
       "      <td>10754147.0</td>\n",
       "      <td>0.004256</td>\n",
       "      <td>0.004256</td>\n",
       "      <td>0.004256</td>\n",
       "      <td>0.004256</td>\n",
       "      <td>0.004256</td>\n",
       "      <td>0.004256</td>\n",
       "    </tr>\n",
       "    <tr>\n",
       "      <th>1</th>\n",
       "      <td>10759547.0</td>\n",
       "      <td>0.004097</td>\n",
       "      <td>0.004097</td>\n",
       "      <td>0.004097</td>\n",
       "      <td>0.004097</td>\n",
       "      <td>0.004097</td>\n",
       "      <td>0.004097</td>\n",
       "    </tr>\n",
       "    <tr>\n",
       "      <th>2</th>\n",
       "      <td>10843547.0</td>\n",
       "      <td>0.313878</td>\n",
       "      <td>0.313878</td>\n",
       "      <td>0.313878</td>\n",
       "      <td>0.313878</td>\n",
       "      <td>0.313878</td>\n",
       "      <td>0.313878</td>\n",
       "    </tr>\n",
       "    <tr>\n",
       "      <th>3</th>\n",
       "      <td>10859147.0</td>\n",
       "      <td>0.014173</td>\n",
       "      <td>0.014173</td>\n",
       "      <td>0.014173</td>\n",
       "      <td>0.014173</td>\n",
       "      <td>0.014173</td>\n",
       "      <td>0.014173</td>\n",
       "    </tr>\n",
       "    <tr>\n",
       "      <th>4</th>\n",
       "      <td>10879947.0</td>\n",
       "      <td>0.001112</td>\n",
       "      <td>0.001112</td>\n",
       "      <td>0.001112</td>\n",
       "      <td>0.001112</td>\n",
       "      <td>0.001112</td>\n",
       "      <td>0.001112</td>\n",
       "    </tr>\n",
       "  </tbody>\n",
       "</table>\n",
       "</div>"
      ],
      "text/plain": [
       "     ParcelId    201610    201611    201612    201710    201711    201712\n",
       "0  10754147.0  0.004256  0.004256  0.004256  0.004256  0.004256  0.004256\n",
       "1  10759547.0  0.004097  0.004097  0.004097  0.004097  0.004097  0.004097\n",
       "2  10843547.0  0.313878  0.313878  0.313878  0.313878  0.313878  0.313878\n",
       "3  10859147.0  0.014173  0.014173  0.014173  0.014173  0.014173  0.014173\n",
       "4  10879947.0  0.001112  0.001112  0.001112  0.001112  0.001112  0.001112"
      ]
     },
     "execution_count": 3,
     "metadata": {},
     "output_type": "execute_result"
    }
   ],
   "source": [
    "p.head()"
   ]
  },
  {
   "cell_type": "code",
   "execution_count": 24,
   "metadata": {
    "collapsed": false
   },
   "outputs": [
    {
     "data": {
      "text/plain": [
       "10754147"
      ]
     },
     "execution_count": 24,
     "metadata": {},
     "output_type": "execute_result"
    }
   ],
   "source": [
    "cleanedPropertyData = pd.np.array(properties)\n",
    "cleanedPropertyData[0][0]"
   ]
  },
  {
   "cell_type": "code",
   "execution_count": 23,
   "metadata": {
    "collapsed": false
   },
   "outputs": [
    {
     "data": {
      "text/plain": [
       "10754147"
      ]
     },
     "execution_count": 23,
     "metadata": {},
     "output_type": "execute_result"
    }
   ],
   "source": [
    "(cleanedPropertyData[0][0])"
   ]
  },
  {
   "cell_type": "code",
   "execution_count": 150,
   "metadata": {
    "collapsed": false
   },
   "outputs": [
    {
     "data": {
      "text/html": [
       "<div>\n",
       "<table border=\"1\" class=\"dataframe\">\n",
       "  <thead>\n",
       "    <tr style=\"text-align: right;\">\n",
       "      <th></th>\n",
       "      <th>parcelid</th>\n",
       "      <th>airconditioningtypeid</th>\n",
       "      <th>architecturalstyletypeid</th>\n",
       "      <th>basementsqft</th>\n",
       "      <th>bathroomcnt</th>\n",
       "      <th>bedroomcnt</th>\n",
       "      <th>buildingclasstypeid</th>\n",
       "      <th>buildingqualitytypeid</th>\n",
       "      <th>calculatedbathnbr</th>\n",
       "      <th>decktypeid</th>\n",
       "      <th>...</th>\n",
       "      <th>regionidcounty</th>\n",
       "      <th>storytypeid</th>\n",
       "      <th>unitcnt</th>\n",
       "      <th>yardbuildingsqft17</th>\n",
       "      <th>yardbuildingsqft26</th>\n",
       "      <th>yearbuilt</th>\n",
       "      <th>numberofstories</th>\n",
       "      <th>structuretaxvaluedollarcnt</th>\n",
       "      <th>landtaxvaluedollarcnt</th>\n",
       "      <th>taxamount</th>\n",
       "    </tr>\n",
       "  </thead>\n",
       "  <tbody>\n",
       "    <tr>\n",
       "      <th>count</th>\n",
       "      <td>2.985217e+06</td>\n",
       "      <td>2.985217e+06</td>\n",
       "      <td>2.985217e+06</td>\n",
       "      <td>2.985217e+06</td>\n",
       "      <td>2.985217e+06</td>\n",
       "      <td>2.985217e+06</td>\n",
       "      <td>2.985217e+06</td>\n",
       "      <td>2.985217e+06</td>\n",
       "      <td>2.985217e+06</td>\n",
       "      <td>2.985217e+06</td>\n",
       "      <td>...</td>\n",
       "      <td>2.985217e+06</td>\n",
       "      <td>2.985217e+06</td>\n",
       "      <td>2.985217e+06</td>\n",
       "      <td>2.985217e+06</td>\n",
       "      <td>2.985217e+06</td>\n",
       "      <td>2.985217e+06</td>\n",
       "      <td>2.985217e+06</td>\n",
       "      <td>2.985217e+06</td>\n",
       "      <td>2.985217e+06</td>\n",
       "      <td>2.985217e+06</td>\n",
       "    </tr>\n",
       "    <tr>\n",
       "      <th>mean</th>\n",
       "      <td>1.332586e+07</td>\n",
       "      <td>1.253134e+00</td>\n",
       "      <td>7.000411e+00</td>\n",
       "      <td>6.468833e+02</td>\n",
       "      <td>2.208340e+00</td>\n",
       "      <td>3.088608e+00</td>\n",
       "      <td>3.998841e+00</td>\n",
       "      <td>6.210886e+00</td>\n",
       "      <td>2.286339e+00</td>\n",
       "      <td>5.726887e-03</td>\n",
       "      <td>...</td>\n",
       "      <td>3.977168e-01</td>\n",
       "      <td>5.440141e-04</td>\n",
       "      <td>1.120013e+00</td>\n",
       "      <td>3.198034e+02</td>\n",
       "      <td>2.782966e+02</td>\n",
       "      <td>1.964262e+03</td>\n",
       "      <td>3.202096e-01</td>\n",
       "      <td>1.708836e+05</td>\n",
       "      <td>2.524780e+05</td>\n",
       "      <td>5.377607e+03</td>\n",
       "    </tr>\n",
       "    <tr>\n",
       "      <th>std</th>\n",
       "      <td>7.909966e+06</td>\n",
       "      <td>1.693104e+00</td>\n",
       "      <td>1.101467e-01</td>\n",
       "      <td>1.257848e+01</td>\n",
       "      <td>1.075760e+00</td>\n",
       "      <td>1.273421e+00</td>\n",
       "      <td>3.716363e-02</td>\n",
       "      <td>1.566111e+00</td>\n",
       "      <td>9.807784e-01</td>\n",
       "      <td>7.545920e-02</td>\n",
       "      <td>...</td>\n",
       "      <td>6.235725e-01</td>\n",
       "      <td>2.331777e-02</td>\n",
       "      <td>1.994175e+00</td>\n",
       "      <td>3.824130e+01</td>\n",
       "      <td>1.100762e+01</td>\n",
       "      <td>2.320484e+01</td>\n",
       "      <td>6.423593e-01</td>\n",
       "      <td>3.983485e+05</td>\n",
       "      <td>4.399356e+05</td>\n",
       "      <td>9.134915e+03</td>\n",
       "    </tr>\n",
       "    <tr>\n",
       "      <th>min</th>\n",
       "      <td>1.071172e+07</td>\n",
       "      <td>1.000000e+00</td>\n",
       "      <td>2.000000e+00</td>\n",
       "      <td>2.000000e+01</td>\n",
       "      <td>0.000000e+00</td>\n",
       "      <td>0.000000e+00</td>\n",
       "      <td>1.000000e+00</td>\n",
       "      <td>1.000000e+00</td>\n",
       "      <td>1.000000e+00</td>\n",
       "      <td>0.000000e+00</td>\n",
       "      <td>...</td>\n",
       "      <td>0.000000e+00</td>\n",
       "      <td>0.000000e+00</td>\n",
       "      <td>1.000000e+00</td>\n",
       "      <td>1.000000e+01</td>\n",
       "      <td>1.000000e+01</td>\n",
       "      <td>1.801000e+03</td>\n",
       "      <td>0.000000e+00</td>\n",
       "      <td>1.000000e+00</td>\n",
       "      <td>1.000000e+00</td>\n",
       "      <td>1.340000e+00</td>\n",
       "    </tr>\n",
       "    <tr>\n",
       "      <th>25%</th>\n",
       "      <td>1.164371e+07</td>\n",
       "      <td>1.000000e+00</td>\n",
       "      <td>7.000000e+00</td>\n",
       "      <td>6.468833e+02</td>\n",
       "      <td>2.000000e+00</td>\n",
       "      <td>2.000000e+00</td>\n",
       "      <td>4.000000e+00</td>\n",
       "      <td>4.000000e+00</td>\n",
       "      <td>2.000000e+00</td>\n",
       "      <td>0.000000e+00</td>\n",
       "      <td>...</td>\n",
       "      <td>0.000000e+00</td>\n",
       "      <td>0.000000e+00</td>\n",
       "      <td>1.000000e+00</td>\n",
       "      <td>3.198034e+02</td>\n",
       "      <td>2.782966e+02</td>\n",
       "      <td>1.950000e+03</td>\n",
       "      <td>0.000000e+00</td>\n",
       "      <td>7.564100e+04</td>\n",
       "      <td>7.710000e+04</td>\n",
       "      <td>2.478050e+03</td>\n",
       "    </tr>\n",
       "    <tr>\n",
       "      <th>50%</th>\n",
       "      <td>1.254509e+07</td>\n",
       "      <td>1.000000e+00</td>\n",
       "      <td>7.000000e+00</td>\n",
       "      <td>6.468833e+02</td>\n",
       "      <td>2.000000e+00</td>\n",
       "      <td>3.000000e+00</td>\n",
       "      <td>4.000000e+00</td>\n",
       "      <td>7.000000e+00</td>\n",
       "      <td>2.000000e+00</td>\n",
       "      <td>0.000000e+00</td>\n",
       "      <td>...</td>\n",
       "      <td>0.000000e+00</td>\n",
       "      <td>0.000000e+00</td>\n",
       "      <td>1.000000e+00</td>\n",
       "      <td>3.198034e+02</td>\n",
       "      <td>2.782966e+02</td>\n",
       "      <td>1.964000e+03</td>\n",
       "      <td>0.000000e+00</td>\n",
       "      <td>1.245920e+05</td>\n",
       "      <td>1.718430e+05</td>\n",
       "      <td>4.027760e+03</td>\n",
       "    </tr>\n",
       "    <tr>\n",
       "      <th>75%</th>\n",
       "      <td>1.409712e+07</td>\n",
       "      <td>1.000000e+00</td>\n",
       "      <td>7.000000e+00</td>\n",
       "      <td>6.468833e+02</td>\n",
       "      <td>3.000000e+00</td>\n",
       "      <td>4.000000e+00</td>\n",
       "      <td>4.000000e+00</td>\n",
       "      <td>7.000000e+00</td>\n",
       "      <td>3.000000e+00</td>\n",
       "      <td>0.000000e+00</td>\n",
       "      <td>...</td>\n",
       "      <td>1.000000e+00</td>\n",
       "      <td>0.000000e+00</td>\n",
       "      <td>1.000000e+00</td>\n",
       "      <td>3.198034e+02</td>\n",
       "      <td>2.782966e+02</td>\n",
       "      <td>1.981000e+03</td>\n",
       "      <td>0.000000e+00</td>\n",
       "      <td>1.947780e+05</td>\n",
       "      <td>3.022000e+05</td>\n",
       "      <td>6.166200e+03</td>\n",
       "    </tr>\n",
       "    <tr>\n",
       "      <th>max</th>\n",
       "      <td>1.696019e+08</td>\n",
       "      <td>1.300000e+01</td>\n",
       "      <td>2.700000e+01</td>\n",
       "      <td>8.516000e+03</td>\n",
       "      <td>2.000000e+01</td>\n",
       "      <td>2.000000e+01</td>\n",
       "      <td>5.000000e+00</td>\n",
       "      <td>1.200000e+01</td>\n",
       "      <td>2.000000e+01</td>\n",
       "      <td>1.000000e+00</td>\n",
       "      <td>...</td>\n",
       "      <td>2.000000e+00</td>\n",
       "      <td>1.000000e+00</td>\n",
       "      <td>9.970000e+02</td>\n",
       "      <td>7.983000e+03</td>\n",
       "      <td>6.141000e+03</td>\n",
       "      <td>2.015000e+03</td>\n",
       "      <td>4.100000e+01</td>\n",
       "      <td>2.514860e+08</td>\n",
       "      <td>9.024622e+07</td>\n",
       "      <td>3.458861e+06</td>\n",
       "    </tr>\n",
       "  </tbody>\n",
       "</table>\n",
       "<p>8 rows × 37 columns</p>\n",
       "</div>"
      ],
      "text/plain": [
       "           parcelid  airconditioningtypeid  architecturalstyletypeid  \\\n",
       "count  2.985217e+06           2.985217e+06              2.985217e+06   \n",
       "mean   1.332586e+07           1.253134e+00              7.000411e+00   \n",
       "std    7.909966e+06           1.693104e+00              1.101467e-01   \n",
       "min    1.071172e+07           1.000000e+00              2.000000e+00   \n",
       "25%    1.164371e+07           1.000000e+00              7.000000e+00   \n",
       "50%    1.254509e+07           1.000000e+00              7.000000e+00   \n",
       "75%    1.409712e+07           1.000000e+00              7.000000e+00   \n",
       "max    1.696019e+08           1.300000e+01              2.700000e+01   \n",
       "\n",
       "       basementsqft   bathroomcnt    bedroomcnt  buildingclasstypeid  \\\n",
       "count  2.985217e+06  2.985217e+06  2.985217e+06         2.985217e+06   \n",
       "mean   6.468833e+02  2.208340e+00  3.088608e+00         3.998841e+00   \n",
       "std    1.257848e+01  1.075760e+00  1.273421e+00         3.716363e-02   \n",
       "min    2.000000e+01  0.000000e+00  0.000000e+00         1.000000e+00   \n",
       "25%    6.468833e+02  2.000000e+00  2.000000e+00         4.000000e+00   \n",
       "50%    6.468833e+02  2.000000e+00  3.000000e+00         4.000000e+00   \n",
       "75%    6.468833e+02  3.000000e+00  4.000000e+00         4.000000e+00   \n",
       "max    8.516000e+03  2.000000e+01  2.000000e+01         5.000000e+00   \n",
       "\n",
       "       buildingqualitytypeid  calculatedbathnbr    decktypeid      ...       \\\n",
       "count           2.985217e+06       2.985217e+06  2.985217e+06      ...        \n",
       "mean            6.210886e+00       2.286339e+00  5.726887e-03      ...        \n",
       "std             1.566111e+00       9.807784e-01  7.545920e-02      ...        \n",
       "min             1.000000e+00       1.000000e+00  0.000000e+00      ...        \n",
       "25%             4.000000e+00       2.000000e+00  0.000000e+00      ...        \n",
       "50%             7.000000e+00       2.000000e+00  0.000000e+00      ...        \n",
       "75%             7.000000e+00       3.000000e+00  0.000000e+00      ...        \n",
       "max             1.200000e+01       2.000000e+01  1.000000e+00      ...        \n",
       "\n",
       "       regionidcounty   storytypeid       unitcnt  yardbuildingsqft17  \\\n",
       "count    2.985217e+06  2.985217e+06  2.985217e+06        2.985217e+06   \n",
       "mean     3.977168e-01  5.440141e-04  1.120013e+00        3.198034e+02   \n",
       "std      6.235725e-01  2.331777e-02  1.994175e+00        3.824130e+01   \n",
       "min      0.000000e+00  0.000000e+00  1.000000e+00        1.000000e+01   \n",
       "25%      0.000000e+00  0.000000e+00  1.000000e+00        3.198034e+02   \n",
       "50%      0.000000e+00  0.000000e+00  1.000000e+00        3.198034e+02   \n",
       "75%      1.000000e+00  0.000000e+00  1.000000e+00        3.198034e+02   \n",
       "max      2.000000e+00  1.000000e+00  9.970000e+02        7.983000e+03   \n",
       "\n",
       "       yardbuildingsqft26     yearbuilt  numberofstories  \\\n",
       "count        2.985217e+06  2.985217e+06     2.985217e+06   \n",
       "mean         2.782966e+02  1.964262e+03     3.202096e-01   \n",
       "std          1.100762e+01  2.320484e+01     6.423593e-01   \n",
       "min          1.000000e+01  1.801000e+03     0.000000e+00   \n",
       "25%          2.782966e+02  1.950000e+03     0.000000e+00   \n",
       "50%          2.782966e+02  1.964000e+03     0.000000e+00   \n",
       "75%          2.782966e+02  1.981000e+03     0.000000e+00   \n",
       "max          6.141000e+03  2.015000e+03     4.100000e+01   \n",
       "\n",
       "       structuretaxvaluedollarcnt  landtaxvaluedollarcnt     taxamount  \n",
       "count                2.985217e+06           2.985217e+06  2.985217e+06  \n",
       "mean                 1.708836e+05           2.524780e+05  5.377607e+03  \n",
       "std                  3.983485e+05           4.399356e+05  9.134915e+03  \n",
       "min                  1.000000e+00           1.000000e+00  1.340000e+00  \n",
       "25%                  7.564100e+04           7.710000e+04  2.478050e+03  \n",
       "50%                  1.245920e+05           1.718430e+05  4.027760e+03  \n",
       "75%                  1.947780e+05           3.022000e+05  6.166200e+03  \n",
       "max                  2.514860e+08           9.024622e+07  3.458861e+06  \n",
       "\n",
       "[8 rows x 37 columns]"
      ]
     },
     "execution_count": 150,
     "metadata": {},
     "output_type": "execute_result"
    }
   ],
   "source": [
    "properties.describe()"
   ]
  },
  {
   "cell_type": "code",
   "execution_count": 141,
   "metadata": {
    "collapsed": false
   },
   "outputs": [
    {
     "data": {
      "text/plain": [
       "(90811, 37)"
      ]
     },
     "execution_count": 141,
     "metadata": {},
     "output_type": "execute_result"
    }
   ],
   "source": [
    "xTrain.shape"
   ]
  },
  {
   "cell_type": "code",
   "execution_count": 120,
   "metadata": {
    "collapsed": false
   },
   "outputs": [
    {
     "data": {
      "text/html": [
       "<div>\n",
       "<table border=\"1\" class=\"dataframe\">\n",
       "  <thead>\n",
       "    <tr style=\"text-align: right;\">\n",
       "      <th></th>\n",
       "      <th>parcelid</th>\n",
       "      <th>airconditioningtypeid</th>\n",
       "      <th>architecturalstyletypeid</th>\n",
       "      <th>basementsqft</th>\n",
       "      <th>bathroomcnt</th>\n",
       "      <th>bedroomcnt</th>\n",
       "      <th>buildingclasstypeid</th>\n",
       "      <th>buildingqualitytypeid</th>\n",
       "      <th>calculatedbathnbr</th>\n",
       "      <th>decktypeid</th>\n",
       "      <th>...</th>\n",
       "      <th>regionidcounty</th>\n",
       "      <th>storytypeid</th>\n",
       "      <th>unitcnt</th>\n",
       "      <th>yardbuildingsqft17</th>\n",
       "      <th>yardbuildingsqft26</th>\n",
       "      <th>yearbuilt</th>\n",
       "      <th>numberofstories</th>\n",
       "      <th>structuretaxvaluedollarcnt</th>\n",
       "      <th>landtaxvaluedollarcnt</th>\n",
       "      <th>taxamount</th>\n",
       "    </tr>\n",
       "  </thead>\n",
       "  <tbody>\n",
       "    <tr>\n",
       "      <th>0</th>\n",
       "      <td>10754147</td>\n",
       "      <td>1.0</td>\n",
       "      <td>7.0</td>\n",
       "      <td>646.883292</td>\n",
       "      <td>0.0</td>\n",
       "      <td>0.0</td>\n",
       "      <td>4.0</td>\n",
       "      <td>7.0</td>\n",
       "      <td>2.0</td>\n",
       "      <td>0.0</td>\n",
       "      <td>...</td>\n",
       "      <td>0.0</td>\n",
       "      <td>0.0</td>\n",
       "      <td>1.0</td>\n",
       "      <td>319.803397</td>\n",
       "      <td>278.296562</td>\n",
       "      <td>1964.261641</td>\n",
       "      <td>0.0</td>\n",
       "      <td>170883.577166</td>\n",
       "      <td>9.0</td>\n",
       "      <td>5377.607139</td>\n",
       "    </tr>\n",
       "  </tbody>\n",
       "</table>\n",
       "<p>1 rows × 37 columns</p>\n",
       "</div>"
      ],
      "text/plain": [
       "   parcelid  airconditioningtypeid  architecturalstyletypeid  basementsqft  \\\n",
       "0  10754147                    1.0                       7.0    646.883292   \n",
       "\n",
       "   bathroomcnt  bedroomcnt  buildingclasstypeid  buildingqualitytypeid  \\\n",
       "0          0.0         0.0                  4.0                    7.0   \n",
       "\n",
       "   calculatedbathnbr  decktypeid     ...       regionidcounty  storytypeid  \\\n",
       "0                2.0         0.0     ...                  0.0          0.0   \n",
       "\n",
       "   unitcnt  yardbuildingsqft17  yardbuildingsqft26    yearbuilt  \\\n",
       "0      1.0          319.803397          278.296562  1964.261641   \n",
       "\n",
       "   numberofstories  structuretaxvaluedollarcnt  landtaxvaluedollarcnt  \\\n",
       "0              0.0               170883.577166                    9.0   \n",
       "\n",
       "     taxamount  \n",
       "0  5377.607139  \n",
       "\n",
       "[1 rows x 37 columns]"
      ]
     },
     "execution_count": 120,
     "metadata": {},
     "output_type": "execute_result"
    }
   ],
   "source": [
    "properties[properties['parcelid'] == 10754147]"
   ]
  },
  {
   "cell_type": "code",
   "execution_count": 151,
   "metadata": {
    "collapsed": false
   },
   "outputs": [],
   "source": [
    "numTrainExamples = train.shape[0]\n",
    "numFeatures = properties.shape[1]\n",
    "xTrain = np.zeros([numTrainExamples, numFeatures])\n",
    "yTrain = np.zeros([numTrainExamples])\n",
    "\n",
    "propertiesIds = properties['parcelid']\n",
    "rowCounter = 0\n",
    "for index, row in train.iterrows():\n",
    "    xTrain[rowCounter] = properties[properties['parcelid'] == row['parcelid']]\n",
    "    yTrain[rowCounter] = row['logerror']\n",
    "    rowCounter = rowCounter + 1\n",
    "    if index == 10:\n",
    "        break"
   ]
  },
  {
   "cell_type": "code",
   "execution_count": 11,
   "metadata": {
    "collapsed": false
   },
   "outputs": [
    {
     "data": {
      "text/plain": [
       "numpy.int64"
      ]
     },
     "execution_count": 11,
     "metadata": {},
     "output_type": "execute_result"
    }
   ],
   "source": [
    "type(properties.loc[0, 'parcelid'])"
   ]
  },
  {
   "cell_type": "code",
   "execution_count": 163,
   "metadata": {
    "collapsed": false
   },
   "outputs": [],
   "source": [
    "model = linear_model.LinearRegression()\n",
    "model.fit(xTrain, yTrain)\n",
    "preds = model.predict(properties)"
   ]
  },
  {
   "cell_type": "code",
   "execution_count": 15,
   "metadata": {
    "collapsed": false
   },
   "outputs": [
    {
     "ename": "KeyboardInterrupt",
     "evalue": "",
     "output_type": "error",
     "traceback": [
      "\u001b[0;31m---------------------------------------------------------------------------\u001b[0m",
      "\u001b[0;31mKeyboardInterrupt\u001b[0m                         Traceback (most recent call last)",
      "\u001b[0;31mKeyboardInterrupt\u001b[0m: "
     ]
    }
   ],
   "source": [
    "cleanedPropertyData = pd.np.array(properties)\n",
    "type((cleanedPropertyData[0][0]))"
   ]
  },
  {
   "cell_type": "code",
   "execution_count": 19,
   "metadata": {
    "collapsed": false
   },
   "outputs": [
    {
     "data": {
      "text/plain": [
       "10754147"
      ]
     },
     "execution_count": 19,
     "metadata": {},
     "output_type": "execute_result"
    }
   ],
   "source": [
    "(cleanedPropertyData[0][0])"
   ]
  },
  {
   "cell_type": "code",
   "execution_count": 166,
   "metadata": {
    "collapsed": false
   },
   "outputs": [
    {
     "data": {
      "text/plain": [
       "array([  1.07541470e+07,   5.47929060e-01,   5.47929060e-01,\n",
       "         5.47929060e-01,   5.47929060e-01,   5.47929060e-01,\n",
       "         5.47929060e-01])"
      ]
     },
     "execution_count": 166,
     "metadata": {},
     "output_type": "execute_result"
    }
   ],
   "source": [
    "numTestExamples = properties.shape[0]\n",
    "numPredictionColumns = 7\n",
    "predictions = np.zeros([numTestExamples, numPredictionColumns])\n",
    "for index, pred in enumerate(preds):\n",
    "    predictions[index][0] = properties.loc[index, 'parcelid']\n",
    "    predictions[index][1:7] = pred\n",
    "    break\n",
    "predictions[0]"
   ]
  },
  {
   "cell_type": "code",
   "execution_count": 139,
   "metadata": {
    "collapsed": false
   },
   "outputs": [
    {
     "data": {
      "text/html": [
       "<div>\n",
       "<table border=\"1\" class=\"dataframe\">\n",
       "  <thead>\n",
       "    <tr style=\"text-align: right;\">\n",
       "      <th></th>\n",
       "      <th>ParcelId</th>\n",
       "      <th>201610</th>\n",
       "      <th>201611</th>\n",
       "      <th>201612</th>\n",
       "      <th>201710</th>\n",
       "      <th>201711</th>\n",
       "      <th>201712</th>\n",
       "    </tr>\n",
       "  </thead>\n",
       "  <tbody>\n",
       "    <tr>\n",
       "      <th>0</th>\n",
       "      <td>10754147</td>\n",
       "      <td>0</td>\n",
       "      <td>0</td>\n",
       "      <td>0</td>\n",
       "      <td>0</td>\n",
       "      <td>0</td>\n",
       "      <td>0</td>\n",
       "    </tr>\n",
       "    <tr>\n",
       "      <th>1</th>\n",
       "      <td>10759547</td>\n",
       "      <td>0</td>\n",
       "      <td>0</td>\n",
       "      <td>0</td>\n",
       "      <td>0</td>\n",
       "      <td>0</td>\n",
       "      <td>0</td>\n",
       "    </tr>\n",
       "    <tr>\n",
       "      <th>2</th>\n",
       "      <td>10843547</td>\n",
       "      <td>0</td>\n",
       "      <td>0</td>\n",
       "      <td>0</td>\n",
       "      <td>0</td>\n",
       "      <td>0</td>\n",
       "      <td>0</td>\n",
       "    </tr>\n",
       "    <tr>\n",
       "      <th>3</th>\n",
       "      <td>10859147</td>\n",
       "      <td>0</td>\n",
       "      <td>0</td>\n",
       "      <td>0</td>\n",
       "      <td>0</td>\n",
       "      <td>0</td>\n",
       "      <td>0</td>\n",
       "    </tr>\n",
       "    <tr>\n",
       "      <th>4</th>\n",
       "      <td>10879947</td>\n",
       "      <td>0</td>\n",
       "      <td>0</td>\n",
       "      <td>0</td>\n",
       "      <td>0</td>\n",
       "      <td>0</td>\n",
       "      <td>0</td>\n",
       "    </tr>\n",
       "  </tbody>\n",
       "</table>\n",
       "</div>"
      ],
      "text/plain": [
       "   ParcelId  201610  201611  201612  201710  201711  201712\n",
       "0  10754147       0       0       0       0       0       0\n",
       "1  10759547       0       0       0       0       0       0\n",
       "2  10843547       0       0       0       0       0       0\n",
       "3  10859147       0       0       0       0       0       0\n",
       "4  10879947       0       0       0       0       0       0"
      ]
     },
     "execution_count": 139,
     "metadata": {},
     "output_type": "execute_result"
    }
   ],
   "source": [
    "sampleSub.head()"
   ]
  },
  {
   "cell_type": "code",
   "execution_count": 167,
   "metadata": {
    "collapsed": false
   },
   "outputs": [],
   "source": [
    "import csv\n",
    "firstRow = [['ParcelId', '201610', '201611', '201612', '201710', '201711', '201712']]\n",
    "with open(\"result.csv\", \"wb\") as f:\n",
    "    writer = csv.writer(f)\n",
    "    writer.writerows(firstRow)\n",
    "    writer.writerows(predictions)"
   ]
  },
  {
   "cell_type": "markdown",
   "metadata": {},
   "source": [
    "# Filling in NA Values"
   ]
  },
  {
   "cell_type": "code",
   "execution_count": 149,
   "metadata": {
    "collapsed": false
   },
   "outputs": [],
   "source": [
    "airConditionMode = properties['airconditioningtypeid'].value_counts().argmax()\n",
    "properties['airconditioningtypeid'] = properties['airconditioningtypeid'].fillna(airConditionMode)\n",
    "\n",
    "architectureMode = properties['architecturalstyletypeid'].value_counts().argmax()\n",
    "properties['architecturalstyletypeid'] = properties['architecturalstyletypeid'].fillna(architectureMode)\n",
    "\n",
    "basementSqFeetAverage = properties['basementsqft'].mean()\n",
    "properties['basementsqft'] = properties['basementsqft'].fillna(basementSqFeetAverage)\n",
    "\n",
    "bathroomCntMode = properties['bathroomcnt'].value_counts().argmax()\n",
    "properties['bathroomcnt'] = properties['bathroomcnt'].fillna(bathroomCntMode)\n",
    "\n",
    "bedroomCntMode = properties['bedroomcnt'].value_counts().argmax()\n",
    "properties['bedroomcnt'] = properties['bedroomcnt'].fillna(bedroomCntMode)\n",
    "\n",
    "buildingClassType = properties['buildingclasstypeid'].value_counts().argmax()\n",
    "properties['buildingclasstypeid'] = properties['buildingclasstypeid'].fillna(buildingClassType)\n",
    "\n",
    "buildingQualityType = properties['buildingqualitytypeid'].value_counts().argmax()\n",
    "properties['buildingqualitytypeid'] = properties['buildingqualitytypeid'].fillna(buildingQualityType)\n",
    "\n",
    "calculatedBathnBedroom = properties['calculatedbathnbr'].value_counts().argmax()\n",
    "properties['calculatedbathnbr'] = properties['calculatedbathnbr'].fillna(calculatedBathnBedroom)\n",
    "\n",
    "# Making deck type a binary label\n",
    "properties['decktypeid'] = properties['decktypeid'].fillna(0) \n",
    "properties['decktypeid'] = properties['decktypeid'].replace(66,1)\n",
    "\n",
    "floor1SqFeetAverage = properties['finishedfloor1squarefeet'].mean()\n",
    "properties['finishedfloor1squarefeet'] = properties['finishedfloor1squarefeet'].fillna(floor1SqFeetAverage)\n",
    "\n",
    "calculatedSqFeetAverage = properties['calculatedfinishedsquarefeet'].mean()\n",
    "properties['calculatedfinishedsquarefeet'] = properties['calculatedfinishedsquarefeet'].fillna(calculatedSqFeetAverage)\n",
    "\n",
    "finishedSqFeet6 = properties['finishedsquarefeet6'].mean()\n",
    "properties['finishedsquarefeet6'] = properties['finishedsquarefeet6'].fillna(finishedSqFeet6)\n",
    "\n",
    "finishedSqFeet12 = properties['finishedsquarefeet12'].mean()\n",
    "properties['finishedsquarefeet12'] = properties['finishedsquarefeet12'].fillna(finishedSqFeet12)\n",
    "\n",
    "finishedSqFeet13 = properties['finishedsquarefeet13'].mean()\n",
    "properties['finishedsquarefeet13'] = properties['finishedsquarefeet13'].fillna(finishedSqFeet13)\n",
    "\n",
    "finishedSqFeet15 = properties['finishedsquarefeet15'].mean()\n",
    "properties['finishedsquarefeet15'] = properties['finishedsquarefeet15'].fillna(finishedSqFeet15)\n",
    "\n",
    "finishedSqFeet50 = properties['finishedsquarefeet50'].mean()\n",
    "properties['finishedsquarefeet50'] = properties['finishedsquarefeet50'].fillna(finishedSqFeet50)\n",
    "\n",
    "fips = properties['fips'].value_counts().argmax()\n",
    "properties['fips'] = properties['fips'].fillna(fips)\n",
    "\n",
    "# Making fireplace count\\ a binary label\n",
    "properties['fireplacecnt'] = properties['fireplacecnt'].replace([2,3,4,5,6,7,8,9],1)\n",
    "properties['fireplacecnt'] = properties['fireplacecnt'].fillna(0) \n",
    "\n",
    "fullCntBathMode = properties['fullbathcnt'].value_counts().argmax()\n",
    "properties['fullbathcnt'] = properties['fullbathcnt'].fillna(fullCntBathMode)\n",
    "\n",
    "garageCntMode = properties['garagecarcnt'].value_counts().argmax()\n",
    "properties['garagecarcnt'] = properties['garagecarcnt'].fillna(garageCntMode)\n",
    "\n",
    "garageSqFeetMode = properties['garagetotalsqft'].value_counts().argmax()\n",
    "properties['garagetotalsqft'] = properties['garagetotalsqft'].fillna(garageSqFeetMode)\n",
    "\n",
    "# Making hot tub a binary label\n",
    "properties['hashottuborspa'] = properties['hashottuborspa'].replace(True,1)\n",
    "properties['hashottuborspa'] = properties['hashottuborspa'].fillna(0)\n",
    "\n",
    "heatingMode = properties['heatingorsystemtypeid'].value_counts().argmax()\n",
    "properties['heatingorsystemtypeid'] = properties['heatingorsystemtypeid'].fillna(heatingMode)\n",
    "\n",
    "properties = properties.drop('latitude', axis=1)\n",
    "properties = properties.drop('longitude', axis=1)\n",
    "\n",
    "lotSizeMode = properties['lotsizesquarefeet'].value_counts().argmax()\n",
    "properties['lotsizesquarefeet'] = properties['lotsizesquarefeet'].fillna(lotSizeMode)\n",
    "\n",
    "# Making pool a binary label\n",
    "properties['poolcnt'] = properties['poolcnt'].fillna(0)\n",
    "\n",
    "properties['poolsizesum'] = properties['poolsizesum'].fillna(0)\n",
    "\n",
    "# These properties show through with the previous features\n",
    "properties = properties.drop('pooltypeid10', axis=1)\n",
    "properties = properties.drop('pooltypeid2', axis=1)\n",
    "properties = properties.drop('pooltypeid7', axis=1)\n",
    "\n",
    "# Why would these even impact the price (but idk, maybe they're important)?\n",
    "properties = properties.drop('propertycountylandusecode', axis=1)\n",
    "properties = properties.drop('propertylandusetypeid', axis=1)\n",
    "properties = properties.drop('propertyzoningdesc', axis=1)\n",
    "properties = properties.drop('rawcensustractandblock', axis=1)\n",
    "properties = properties.drop('censustractandblock', axis=1)\n",
    "\n",
    "properties['regionidcounty'] = properties['regionidcounty'].replace([3101, 1286, 2061],[0,1,2])\n",
    "properties['regionidcounty'] = properties['regionidcounty'].fillna(0) \n",
    "\n",
    "# No idea how to handle these features\n",
    "properties = properties.drop('regionidcity', axis=1)\n",
    "properties = properties.drop('regionidzip', axis=1)\n",
    "properties = properties.drop('regionidneighborhood', axis=1)\n",
    "\n",
    "# Don't bedroom and bathroom counts already do this?\n",
    "properties = properties.drop('roomcnt', axis=1)\n",
    "properties = properties.drop('threequarterbathnbr', axis=1)\n",
    "\n",
    "# Making deck type a binary label\n",
    "properties['storytypeid'] = properties['storytypeid'].fillna(0) \n",
    "properties['storytypeid'] = properties['storytypeid'].replace(7,1)\n",
    "\n",
    "# Only has like a couple thousand non NA values, so not worth\n",
    "properties = properties.drop('typeconstructiontypeid', axis=1)\n",
    "\n",
    "unitMode = properties['unitcnt'].value_counts().argmax()\n",
    "properties['unitcnt'] = properties['unitcnt'].fillna(unitMode)\n",
    "\n",
    "yardSqFt17 = properties['yardbuildingsqft17'].mean()\n",
    "properties['yardbuildingsqft17'] = properties['yardbuildingsqft17'].fillna(yardSqFt17)\n",
    "\n",
    "yardSqFt26 = properties['yardbuildingsqft26'].mean()\n",
    "properties['yardbuildingsqft26'] = properties['yardbuildingsqft26'].fillna(yardSqFt26)\n",
    "\n",
    "yearBuilt = properties['yearbuilt'].mean()\n",
    "properties['yearbuilt'] = properties['yearbuilt'].fillna(yearBuilt)\n",
    "\n",
    "properties['numberofstories'] = properties['numberofstories'].fillna(0)\n",
    "\n",
    "# Fireplace count already does this\n",
    "properties = properties.drop('fireplaceflag', axis=1)\n",
    "\n",
    "structureTax = properties['structuretaxvaluedollarcnt'].mean()\n",
    "properties['structuretaxvaluedollarcnt'] = properties['structuretaxvaluedollarcnt'].fillna(structureTax)\n",
    "\n",
    "landTax = properties['landtaxvaluedollarcnt'].mean()\n",
    "properties['landtaxvaluedollarcnt'] = properties['landtaxvaluedollarcnt'].fillna(landTax)\n",
    "\n",
    "tax = properties['taxamount'].mean()\n",
    "properties['taxamount'] = properties['taxamount'].fillna(tax)\n",
    "\n",
    "# Tax amount already does this\n",
    "properties = properties.drop('taxvaluedollarcnt', axis=1)\n",
    "\n",
    "# Idk, I don't wanna deal with these\n",
    "properties = properties.drop('assessmentyear', axis=1)\n",
    "properties = properties.drop('taxdelinquencyflag', axis=1)\n",
    "properties = properties.drop('taxdelinquencyyear', axis=1)"
   ]
  },
  {
   "cell_type": "code",
   "execution_count": 107,
   "metadata": {
    "collapsed": false
   },
   "outputs": [
    {
     "data": {
      "text/plain": [
       "Index([u'parcelid', u'airconditioningtypeid', u'architecturalstyletypeid',\n",
       "       u'basementsqft', u'bathroomcnt', u'bedroomcnt', u'buildingclasstypeid',\n",
       "       u'buildingqualitytypeid', u'calculatedbathnbr', u'decktypeid',\n",
       "       u'finishedfloor1squarefeet', u'calculatedfinishedsquarefeet',\n",
       "       u'finishedsquarefeet12', u'finishedsquarefeet13',\n",
       "       u'finishedsquarefeet15', u'finishedsquarefeet50',\n",
       "       u'finishedsquarefeet6', u'fips', u'fireplacecnt', u'fullbathcnt',\n",
       "       u'garagecarcnt', u'garagetotalsqft', u'hashottuborspa',\n",
       "       u'heatingorsystemtypeid', u'lotsizesquarefeet', u'poolcnt',\n",
       "       u'poolsizesum', u'regionidcounty', u'storytypeid', u'unitcnt',\n",
       "       u'yardbuildingsqft17', u'yardbuildingsqft26', u'yearbuilt',\n",
       "       u'numberofstories', u'structuretaxvaluedollarcnt',\n",
       "       u'landtaxvaluedollarcnt', u'taxamount'],\n",
       "      dtype='object')"
      ]
     },
     "execution_count": 107,
     "metadata": {},
     "output_type": "execute_result"
    }
   ],
   "source": [
    "properties.columns"
   ]
  },
  {
   "cell_type": "code",
   "execution_count": 108,
   "metadata": {
    "collapsed": false
   },
   "outputs": [
    {
     "data": {
      "text/plain": [
       "(2985217, 37)"
      ]
     },
     "execution_count": 108,
     "metadata": {},
     "output_type": "execute_result"
    }
   ],
   "source": [
    "cleanedPropertyData = pd.np.array(properties)\n",
    "cleanedPropertyData.shape"
   ]
  },
  {
   "cell_type": "code",
   "execution_count": 109,
   "metadata": {
    "collapsed": false
   },
   "outputs": [
    {
     "data": {
      "text/plain": [
       "883624232"
      ]
     },
     "execution_count": 109,
     "metadata": {},
     "output_type": "execute_result"
    }
   ],
   "source": [
    "cleanedPropertyData.nbytes"
   ]
  },
  {
   "cell_type": "code",
   "execution_count": 110,
   "metadata": {
    "collapsed": false
   },
   "outputs": [
    {
     "name": "stdout",
     "output_type": "stream",
     "text": [
      "<class 'pandas.core.frame.DataFrame'>\n",
      "RangeIndex: 2985217 entries, 0 to 2985216\n",
      "Data columns (total 37 columns):\n",
      "parcelid                        int64\n",
      "airconditioningtypeid           float64\n",
      "architecturalstyletypeid        float64\n",
      "basementsqft                    float64\n",
      "bathroomcnt                     float64\n",
      "bedroomcnt                      float64\n",
      "buildingclasstypeid             float64\n",
      "buildingqualitytypeid           float64\n",
      "calculatedbathnbr               float64\n",
      "decktypeid                      float64\n",
      "finishedfloor1squarefeet        float64\n",
      "calculatedfinishedsquarefeet    float64\n",
      "finishedsquarefeet12            float64\n",
      "finishedsquarefeet13            float64\n",
      "finishedsquarefeet15            float64\n",
      "finishedsquarefeet50            float64\n",
      "finishedsquarefeet6             float64\n",
      "fips                            float64\n",
      "fireplacecnt                    float64\n",
      "fullbathcnt                     float64\n",
      "garagecarcnt                    float64\n",
      "garagetotalsqft                 float64\n",
      "hashottuborspa                  float64\n",
      "heatingorsystemtypeid           float64\n",
      "lotsizesquarefeet               float64\n",
      "poolcnt                         float64\n",
      "poolsizesum                     float64\n",
      "regionidcounty                  float64\n",
      "storytypeid                     float64\n",
      "unitcnt                         float64\n",
      "yardbuildingsqft17              float64\n",
      "yardbuildingsqft26              float64\n",
      "yearbuilt                       float64\n",
      "numberofstories                 float64\n",
      "structuretaxvaluedollarcnt      float64\n",
      "landtaxvaluedollarcnt           float64\n",
      "taxamount                       float64\n",
      "dtypes: float64(36), int64(1)\n",
      "memory usage: 842.7 MB\n"
     ]
    }
   ],
   "source": [
    "properties.info()"
   ]
  },
  {
   "cell_type": "code",
   "execution_count": 5,
   "metadata": {
    "collapsed": false
   },
   "outputs": [],
   "source": [
    "import csv\n",
    "predictions = []\n",
    "t = int(4.5)\n",
    "y =9.4\n",
    "predictions.append([t, y,y,y,y,y,y])\n",
    "predictions.append([t, y,y,y,y,y,y])\n",
    "\n",
    "firstRow = [['ParcelId', '201610', '201611', '201612', '201710', '201711', '201712']]\n",
    "with open(\"temp.csv\", \"wb\") as f:\n",
    "    writer = csv.writer(f)\n",
    "    writer.writerows(firstRow)\n",
    "    writer.writerows(predictions)"
   ]
  },
  {
   "cell_type": "code",
   "execution_count": 24,
   "metadata": {
    "collapsed": false
   },
   "outputs": [],
   "source": [
    "from sklearn.model_selection import cross_val_score\n",
    "from sklearn.datasets import load_boston\n",
    "data, targets = load_boston(True)\n",
    "\n",
    "allModels = {}\n",
    "\n",
    "model = linear_model.BayesianRidge()\n",
    "predicted = cross_val_score(model, data, targets, scoring='neg_mean_absolute_error', cv=10)\n",
    "allModels[model] = predicted.mean()\n",
    "\n",
    "model = linear_model.LinearRegression()\n",
    "predicted = cross_val_score(model, data, targets, scoring='neg_mean_absolute_error', cv=10)\n",
    "allModels[model] = predicted.mean()"
   ]
  },
  {
   "cell_type": "code",
   "execution_count": 25,
   "metadata": {
    "collapsed": false
   },
   "outputs": [
    {
     "data": {
      "text/plain": [
       "{BayesianRidge(alpha_1=1e-06, alpha_2=1e-06, compute_score=False, copy_X=True,\n",
       "        fit_intercept=True, lambda_1=1e-06, lambda_2=1e-06, n_iter=300,\n",
       "        normalize=False, tol=0.001, verbose=False): -3.926780377703075,\n",
       " LinearRegression(copy_X=True, fit_intercept=True, n_jobs=1, normalize=False): -4.0103527020599952}"
      ]
     },
     "execution_count": 25,
     "metadata": {},
     "output_type": "execute_result"
    }
   ],
   "source": [
    "allModels"
   ]
  },
  {
   "cell_type": "code",
   "execution_count": null,
   "metadata": {
    "collapsed": true
   },
   "outputs": [],
   "source": []
  }
 ],
 "metadata": {
  "anaconda-cloud": {},
  "kernelspec": {
   "display_name": "Python [default]",
   "language": "python",
   "name": "python2"
  },
  "language_info": {
   "codemirror_mode": {
    "name": "ipython",
    "version": 2
   },
   "file_extension": ".py",
   "mimetype": "text/x-python",
   "name": "python",
   "nbconvert_exporter": "python",
   "pygments_lexer": "ipython2",
   "version": "2.7.12"
  }
 },
 "nbformat": 4,
 "nbformat_minor": 1
}
